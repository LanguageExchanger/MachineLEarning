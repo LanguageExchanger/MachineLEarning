{
  "nbformat": 4,
  "nbformat_minor": 0,
  "metadata": {
    "colab": {
      "provenance": [],
      "authorship_tag": "ABX9TyOM4bL3/Xg9h/UpP4UXapcT",
      "include_colab_link": true
    },
    "kernelspec": {
      "name": "python3",
      "display_name": "Python 3"
    },
    "language_info": {
      "name": "python"
    }
  },
  "cells": [
    {
      "cell_type": "markdown",
      "metadata": {
        "id": "view-in-github",
        "colab_type": "text"
      },
      "source": [
        "<a href=\"https://colab.research.google.com/github/LanguageExchanger/MachineLEarning/blob/main/Classification_Models.ipynb\" target=\"_parent\"><img src=\"https://colab.research.google.com/assets/colab-badge.svg\" alt=\"Open In Colab\"/></a>"
      ]
    },
    {
      "cell_type": "markdown",
      "source": [
        "# 데이터셋 분리"
      ],
      "metadata": {
        "id": "g_3M6gbXAkjm"
      }
    },
    {
      "cell_type": "code",
      "execution_count": 1,
      "metadata": {
        "id": "Gbh1tznS1oKL"
      },
      "outputs": [],
      "source": [
        "import pandas as pd\n",
        "from sklearn.model_selection import train_test_split\n",
        "from sklearn.metrics import accuracy_score"
      ]
    },
    {
      "cell_type": "code",
      "source": [
        "# 데이터 생성\n",
        "from sklearn.datasets import load_breast_cancer\n",
        "\n",
        "def make_dataset():\n",
        "    iris = load_breast_cancer()\n",
        "    df = pd.DataFrame(iris.data, columns=iris.feature_names)\n",
        "    df['target'] = iris.target\n",
        "    X_train, X_test, y_train, y_test = train_test_split(\n",
        "        df.drop('target', axis=1), df['target'], test_size=0.5, random_state=1004)\n",
        "    return X_train, X_test, y_train, y_test\n",
        "\n",
        "X_train, X_test, y_train, y_test = make_dataset()\n",
        "X_train.shape, X_test.shape, y_train.shape, y_test.shape"
      ],
      "metadata": {
        "colab": {
          "base_uri": "https://localhost:8080/"
        },
        "id": "JeI-KiV6-4C3",
        "outputId": "e0003bbf-3e95-454e-bda4-e926afe9d373"
      },
      "execution_count": 2,
      "outputs": [
        {
          "output_type": "execute_result",
          "data": {
            "text/plain": [
              "((284, 30), (285, 30), (284,), (285,))"
            ]
          },
          "metadata": {},
          "execution_count": 2
        }
      ]
    },
    {
      "cell_type": "markdown",
      "source": [
        "# DecisionTree"
      ],
      "metadata": {
        "id": "Alkv1C_A_AAz"
      }
    },
    {
      "cell_type": "markdown",
      "source": [
        "- `criterion`: 불순도 지표 (또는 엔트로피 불순도 entropy), 기본값 = gini\n",
        "- `max_depth` : 최대 한도 깊이,  기본값 = None\n",
        "- `min_samples_split`  : 자식 노드를 갖기 위한 최소한의 데이터 수, 기본값 = 2\n",
        "- `min_samples_leaf` : 리프 노드가 되기 위한 최소 샘플 수,  기본값  = 1\n",
        "\n"
      ],
      "metadata": {
        "id": "q3804Nxa_1pd"
      }
    },
    {
      "cell_type": "code",
      "source": [
        "# 의사결정나무 하이퍼파라미터\n",
        "from sklearn.tree import DecisionTreeClassifier\n",
        "model = DecisionTreeClassifier(\n",
        "    criterion = 'entropy',\n",
        "    max_depth = 1000,\n",
        "    min_samples_split = 2,\n",
        "    min_samples_leaf=2,\n",
        "    random_state=0)\n",
        "model.fit(X_train, y_train)\n",
        "pred = model.predict(X_test)\n",
        "accuracy_score(y_test, pred)"
      ],
      "metadata": {
        "colab": {
          "base_uri": "https://localhost:8080/"
        },
        "id": "m8EZMQ7--9zO",
        "outputId": "0f59d239-28d1-416a-d2d5-96e76b839960"
      },
      "execution_count": 3,
      "outputs": [
        {
          "output_type": "execute_result",
          "data": {
            "text/plain": [
              "0.9228070175438596"
            ]
          },
          "metadata": {},
          "execution_count": 3
        }
      ]
    },
    {
      "cell_type": "markdown",
      "source": [
        "# Random Forest"
      ],
      "metadata": {
        "id": "zY7kcPZ2_NkW"
      }
    },
    {
      "cell_type": "markdown",
      "source": [
        "- `n_estimators`: 트리의 수,  기본값 = 100\n",
        "- `criterion`: 불순도 지표, 기본값 = gini\n",
        "- `max_depth` : 최대 한도 깊이, 기본값 = None\n",
        "- `min_samples_split`  : 자식 노드를 갖기 위한 최소한의 데이터 수, 기본값 = 2\n",
        "- `min_samples_leaf`  : 리프 노드가 되기 위한 최소 샘플 수, 기본값  = 1"
      ],
      "metadata": {
        "id": "Ty4A1SzL__VG"
      }
    },
    {
      "cell_type": "code",
      "source": [
        "# 랜덤포레스트 하이퍼파라미터\n",
        "from sklearn.ensemble import RandomForestClassifier\n",
        "model = RandomForestClassifier(n_estimators=500, max_depth=5, random_state=0)\n",
        "model.fit(X_train, y_train)\n",
        "pred = model.predict(X_test)\n",
        "accuracy_score(y_test, pred)"
      ],
      "metadata": {
        "colab": {
          "base_uri": "https://localhost:8080/"
        },
        "id": "_ydWW6QZ_LhU",
        "outputId": "7a6a510d-14d6-41db-eefb-a63b8590e482"
      },
      "execution_count": 5,
      "outputs": [
        {
          "output_type": "execute_result",
          "data": {
            "text/plain": [
              "0.9473684210526315"
            ]
          },
          "metadata": {},
          "execution_count": 5
        }
      ]
    },
    {
      "cell_type": "markdown",
      "source": [
        "# xgboost"
      ],
      "metadata": {
        "id": "MWb_Ej_q_jZV"
      }
    },
    {
      "cell_type": "markdown",
      "source": [
        "- `booster` : 부스팅 알고리즘 (또는 dart, gblinear),  기본값 = gbtree\n",
        "- `objective` : 이진분류 (다중분류: multi:softmax), 기본값 = binary : logistic\n",
        "- `max_depth`  : 최대 한도 깊이, 기본값 = 6\n",
        "- `learning_rate`  : 학습률, 기본값 = 0.1\n",
        "- `n_estimators`  : 트리의 수, 기본값 = 100\n",
        "- `subsample`  : 훈련 샘플 개수의 비율, 기본값 = 1\n",
        "- `colsample_bytree`  : 특성 개수의 비율, 기본값  = 1\n",
        "- `n_jobs`  : 사용 코어 수 (-1: 모든 코어를 다 사용), 기본값 = 1"
      ],
      "metadata": {
        "id": "kGbd4xCCARv2"
      }
    },
    {
      "cell_type": "code",
      "source": [
        "# xgboost 하이퍼파라미터\n",
        "from xgboost import XGBClassifier\n",
        "model = XGBClassifier(random_state=0, use_label_encoder=False, eval_metric='logloss',\n",
        "                      booster = 'gbtree',\n",
        "                      objective = 'binary:logistic',\n",
        "                      max_depth = 5,\n",
        "                      learning_rate = 0.05,\n",
        "                      n_estimators = 500,\n",
        "                      subsample = 1,\n",
        "                      colsample_bytree = 1,\n",
        "                      n_jobs = -1\n",
        "                     )\n",
        "model.fit(X_train, y_train)\n",
        "pred = model.predict(X_test)\n",
        "accuracy_score(y_test, pred)"
      ],
      "metadata": {
        "colab": {
          "base_uri": "https://localhost:8080/"
        },
        "id": "bwunAH64_of4",
        "outputId": "a2e88bfb-f3bd-4cc5-e525-976a321c1855"
      },
      "execution_count": 7,
      "outputs": [
        {
          "output_type": "stream",
          "name": "stderr",
          "text": [
            "/usr/local/lib/python3.11/dist-packages/xgboost/core.py:158: UserWarning: [07:43:33] WARNING: /workspace/src/learner.cc:740: \n",
            "Parameters: { \"use_label_encoder\" } are not used.\n",
            "\n",
            "  warnings.warn(smsg, UserWarning)\n"
          ]
        },
        {
          "output_type": "execute_result",
          "data": {
            "text/plain": [
              "0.9649122807017544"
            ]
          },
          "metadata": {},
          "execution_count": 7
        }
      ]
    }
  ]
}